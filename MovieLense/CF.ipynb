{
 "cells": [
  {
   "cell_type": "code",
   "execution_count": 434,
   "metadata": {},
   "outputs": [],
   "source": [
    "import pandas as pd\n",
    "import matplotlib.pyplot as plt\n",
    "import numpy as np \n",
    "import math \n",
    "\n",
    "from collections import Counter\n",
    "pd.options.mode.chained_assignment = None  # default='warn'\n"
   ]
  },
  {
   "cell_type": "code",
   "execution_count": 207,
   "metadata": {},
   "outputs": [],
   "source": [
    "rating_df = pd.read_csv(\"data/ratings_small.csv\")"
   ]
  },
  {
   "cell_type": "code",
   "execution_count": 9,
   "metadata": {},
   "outputs": [
    {
     "data": {
      "text/plain": [
       "Index(['userId', 'movieId', 'rating', 'timestamp'], dtype='object')"
      ]
     },
     "execution_count": 9,
     "metadata": {},
     "output_type": "execute_result"
    }
   ],
   "source": [
    "rating_df.columns"
   ]
  },
  {
   "cell_type": "code",
   "execution_count": 18,
   "metadata": {},
   "outputs": [],
   "source": [
    "c = Counter(rating_df.movieId)"
   ]
  },
  {
   "cell_type": "markdown",
   "metadata": {},
   "source": [
    "# 데이터 분석\n",
    "\n",
    "- [x] 그래프 그리기 \n",
    "  - x : 유저가 평가한 영화 수, y : 유저수 \n",
    "  - x : 영화당 평가받은 레이팅 수, y : 영화수 \n",
    "  - x : 유저가 평가한 평균 레이팅 값, y : 유저수 \n",
    "  - x : 영화당 평가받은 평균 레이팅 값, y : 영화수 \n",
    "- [x] 테스트 유저 뽑기 (k >= 5, k = 평가한 아이템 수)\n",
    "  - 테스트 유저의 공개 레이팅 / 비공개 레이팅 뽑기 \n",
    "\n"
   ]
  },
  {
   "cell_type": "markdown",
   "metadata": {},
   "source": [
    "#### 유저의 점수 분포"
   ]
  },
  {
   "cell_type": "code",
   "execution_count": 122,
   "metadata": {},
   "outputs": [
    {
     "data": {
      "text/plain": [
       "count    671.000000\n",
       "mean       3.657587\n",
       "std        0.471339\n",
       "min        1.333333\n",
       "25%        3.396193\n",
       "50%        3.675000\n",
       "75%        3.984026\n",
       "max        4.948718\n",
       "Name: rating, dtype: float64"
      ]
     },
     "execution_count": 122,
     "metadata": {},
     "output_type": "execute_result"
    }
   ],
   "source": [
    "rating_df.groupby(\"userId\").mean().rating.describe()"
   ]
  },
  {
   "cell_type": "markdown",
   "metadata": {},
   "source": [
    "#### 영화의 점수 분포"
   ]
  },
  {
   "cell_type": "code",
   "execution_count": 123,
   "metadata": {},
   "outputs": [
    {
     "data": {
      "text/plain": [
       "count    9066.000000\n",
       "mean        3.292054\n",
       "std         0.881968\n",
       "min         0.500000\n",
       "25%         2.843750\n",
       "50%         3.500000\n",
       "75%         3.966250\n",
       "max         5.000000\n",
       "Name: rating, dtype: float64"
      ]
     },
     "execution_count": 123,
     "metadata": {},
     "output_type": "execute_result"
    }
   ],
   "source": [
    "rating_df.groupby(\"movieId\").mean().rating.describe()"
   ]
  },
  {
   "cell_type": "markdown",
   "metadata": {},
   "source": [
    "#### 유저의 리뷰수 분포"
   ]
  },
  {
   "cell_type": "code",
   "execution_count": 124,
   "metadata": {},
   "outputs": [
    {
     "data": {
      "text/plain": [
       "count     671.000000\n",
       "mean      149.037258\n",
       "std       231.226948\n",
       "min        20.000000\n",
       "25%        37.000000\n",
       "50%        71.000000\n",
       "75%       161.000000\n",
       "max      2391.000000\n",
       "Name: movieId, dtype: float64"
      ]
     },
     "execution_count": 124,
     "metadata": {},
     "output_type": "execute_result"
    }
   ],
   "source": [
    "rating_df.groupby(\"userId\").count().movieId.describe()"
   ]
  },
  {
   "cell_type": "markdown",
   "metadata": {},
   "source": [
    "#### 영화의 리뷰수 분포"
   ]
  },
  {
   "cell_type": "code",
   "execution_count": 125,
   "metadata": {},
   "outputs": [
    {
     "data": {
      "text/plain": [
       "count    9066.000000\n",
       "mean       11.030664\n",
       "std        24.050800\n",
       "min         1.000000\n",
       "25%         1.000000\n",
       "50%         3.000000\n",
       "75%         9.000000\n",
       "max       341.000000\n",
       "Name: userId, dtype: float64"
      ]
     },
     "execution_count": 125,
     "metadata": {},
     "output_type": "execute_result"
    }
   ],
   "source": [
    "rating_df.groupby(\"movieId\").count().userId.describe()"
   ]
  },
  {
   "cell_type": "markdown",
   "metadata": {},
   "source": [
    "### 테스트 유저 뽑기"
   ]
  },
  {
   "cell_type": "code",
   "execution_count": 236,
   "metadata": {},
   "outputs": [],
   "source": [
    "grouped = rating_df.groupby(\"userId\").count().reset_index()"
   ]
  },
  {
   "cell_type": "code",
   "execution_count": 482,
   "metadata": {},
   "outputs": [],
   "source": [
    "idx = (grouped.movieId > 20).mul(grouped.movieId < 30, axis=0)\n",
    "test_users = grouped[idx].sample(n=1, random_state=2).userId.tolist()"
   ]
  },
  {
   "cell_type": "code",
   "execution_count": 498,
   "metadata": {},
   "outputs": [
    {
     "data": {
      "text/plain": [
       "[368]"
      ]
     },
     "execution_count": 498,
     "metadata": {},
     "output_type": "execute_result"
    }
   ],
   "source": [
    "test_users"
   ]
  },
  {
   "cell_type": "code",
   "execution_count": 483,
   "metadata": {},
   "outputs": [],
   "source": [
    "test_user_rating_df = rating_df[rating_df.userId.isin(test_users)]\n",
    "closed_rating_df = test_user_rating_df.sample(n=10, random_state=1)\n",
    "open_rating_df = test_user_rating_df[~test_user_rating_df.index.isin(test_user_close_rating_df.index)]\n",
    "\n",
    "train_rating_df = rating_df[~rating_df.index.isin(closed_rating_df.index)]\n",
    "\n"
   ]
  },
  {
   "cell_type": "markdown",
   "metadata": {},
   "source": [
    "## Model : 1.0 Pearson 기반 User Similarity\n",
    "\n",
    "Q. 유사도는 어떻게 측정할 것인가?\n",
    "\n",
    "- **Similarity Function: Pearson Correlation**  \n",
    "- 유저 셋을 U.\n",
    "- 유저 a와 b가 모두 평가한 영화 아이템셋을 P.   \n",
    "- sim(a, b) =  $\\frac{\\Sigma_{p \\in P} (r_{a, p} - \\bar{r}_{a})(r_{b, p} - \\bar{r}_{b})}{\\sqrt{\\Sigma_{p \\in P}(r_{a, p} - \\bar{r}_a)^2}\\sqrt{\\Sigma_{p \\in P}(r_{b, p} - \\bar{r}_b)^2}}$ \n",
    "\n",
    "\n",
    "Q. 아이템에 대해 예상 점수는 어떻게 측정할 것인가?\n",
    "\n",
    "- **Prediction(a, p)** = 유저 a의 평균 평가 점수 +  (모든 유저 b에 대해서 (유저 b의 아이템 p에 대한 평가 점수 -  유저 b의 평균 평가 점수) *  (유저 a와 b의 유사도) 의 합)/(각 유저와 유저 a와의 유사도 합)\n"
   ]
  },
  {
   "cell_type": "markdown",
   "metadata": {},
   "source": [
    "### 데이터 전처리 - Training Set"
   ]
  },
  {
   "cell_type": "code",
   "execution_count": 484,
   "metadata": {},
   "outputs": [],
   "source": [
    "movie_ids = list(set(train_rating_df.movieId))\n",
    "movie_id2idx = {v:k for k, v in enumerate(movie_ids)}\n",
    "user_ids = list(set(train_rating_df.userId))\n",
    "user_id2idx = {v:k for k, v in enumerate(user_ids)}\n",
    "train_rating_df[\"movie_idx\"] = train_rating_df.apply(lambda x : movie_id2idx[x.movieId], axis=1)\n",
    "train_rating_df[\"user_idx\"] = train_rating_df.apply(lambda x : user_id2idx[x.userId], axis=1)"
   ]
  },
  {
   "cell_type": "code",
   "execution_count": 485,
   "metadata": {},
   "outputs": [],
   "source": [
    "user_idxes = train_rating_df.user_idx.tolist()\n",
    "ratings = train_rating_df.rating.tolist()\n",
    "movie_idxes = train_rating_df.movie_idx.tolist()"
   ]
  },
  {
   "cell_type": "code",
   "execution_count": 486,
   "metadata": {},
   "outputs": [],
   "source": [
    "user_rating_book = [dict() for _ in range(len(user_idxes))]\n",
    "\n",
    "for user_idx, rating, movie_idx in zip(user_idxes, ratings, movie_idxes):\n",
    "    user_rating_book[user_idx][movie_idx] = rating"
   ]
  },
  {
   "cell_type": "markdown",
   "metadata": {},
   "source": [
    "### 데이터 전처리 - Test Set"
   ]
  },
  {
   "cell_type": "code",
   "execution_count": 487,
   "metadata": {},
   "outputs": [],
   "source": [
    "open_rating_df[\"movie_idx\"] = open_rating_df.apply(lambda x : movie_id2idx.get(x.movieId, -1), axis=1)\n",
    "open_rating_df[\"user_idx\"] = open_rating_df.apply(lambda x : user_id2idx.get(x.userId, -1), axis=1)\n",
    "\n",
    "closed_rating_df[\"movie_idx\"] = closed_rating_df.apply(lambda x : movie_id2idx.get(x.movieId, -1), axis=1)\n",
    "closed_rating_df[\"user_idx\"] = closed_rating_df.apply(lambda x : user_id2idx.get(x.userId, -1), axis=1)\n",
    "\n"
   ]
  },
  {
   "cell_type": "code",
   "execution_count": null,
   "metadata": {},
   "outputs": [],
   "source": [
    "test_user_idx = "
   ]
  },
  {
   "cell_type": "code",
   "execution_count": 488,
   "metadata": {},
   "outputs": [],
   "source": [
    "open_rating_dict = {}\n",
    "for index, row in open_rating_df.iterrows():\n",
    "    open_rating_dict[row[\"movie_idx\"]] = row[\"rating\"]\n",
    "\n",
    "r_a = np.mean(list(open_rating_dict.values()))"
   ]
  },
  {
   "cell_type": "markdown",
   "metadata": {},
   "source": [
    "### 유저 유사도 평가"
   ]
  },
  {
   "cell_type": "code",
   "execution_count": 489,
   "metadata": {},
   "outputs": [],
   "source": [
    "user_sim_dict = {}"
   ]
  },
  {
   "cell_type": "code",
   "execution_count": 490,
   "metadata": {},
   "outputs": [
    {
     "name": "stderr",
     "output_type": "stream",
     "text": [
      "/home1/irteam/yunsoo/anaconda3/envs/py36-tf2/lib/python3.6/site-packages/numpy/core/fromnumeric.py:3373: RuntimeWarning: Mean of empty slice.\n",
      "  out=out, **kwargs)\n",
      "/home1/irteam/yunsoo/anaconda3/envs/py36-tf2/lib/python3.6/site-packages/numpy/core/_methods.py:170: RuntimeWarning: invalid value encountered in double_scalars\n",
      "  ret = ret.dtype.type(ret / rcount)\n"
     ]
    }
   ],
   "source": [
    "for user_idx, rating_dict in enumerate(user_rating_book):\n",
    "    numerator = 0\n",
    "\n",
    "    denominator_a = 0\n",
    "    denominator_b = 0\n",
    "    r_b = np.mean(list(rating_dict.values()))\n",
    "    for movie_idx, rating in rating_dict.items():\n",
    "        if movie_idx in open_rating_dict.keys():\n",
    "            b_rating_diff = (rating - r_b)\n",
    "            a_rating_diff = (open_rating_dict[movie_idx] - r_a)\n",
    "            numerator +=  a_rating_diff * b_rating_diff\n",
    "            denominator_a += math.pow(a_rating_diff, 2)\n",
    "            denominator_b += math.pow(b_rating_diff, 2)\n",
    "    denominator = np.sqrt(denominator_a) * np.sqrt(denominator_b)\n",
    "    if denominator != 0:\n",
    "        sim = numerator / denominator\n",
    "    else:\n",
    "        sim = 0\n",
    "    user_sim_dict[user_idx] = sim\n",
    "    "
   ]
  },
  {
   "cell_type": "markdown",
   "metadata": {},
   "source": [
    "### 예측"
   ]
  },
  {
   "cell_type": "code",
   "execution_count": 497,
   "metadata": {},
   "outputs": [
    {
     "name": "stdout",
     "output_type": "stream",
     "text": [
      "movie_idx = 2521.0, rated_score = 5.00, predicted score = 4.78, error = 0.22\n",
      "movie_idx = 2284.0, rated_score = 3.00, predicted score = 3.12, error = -0.12\n",
      "movie_idx = 563.0, rated_score = 4.00, predicted score = 4.68, error = -0.68\n",
      "movie_idx = 2800.0, rated_score = 5.00, predicted score = 4.51, error = 0.49\n",
      "movie_idx = 2799.0, rated_score = 3.00, predicted score = 3.37, error = -0.37\n",
      "movie_idx = 2419.0, rated_score = 4.00, predicted score = 4.36, error = -0.36\n",
      "movie_idx = 2738.0, rated_score = 3.00, predicted score = 3.27, error = -0.27\n",
      "movie_idx = 819.0, rated_score = 3.00, predicted score = 3.34, error = -0.34\n",
      "movie_idx = 519.0, rated_score = 5.00, predicted score = 4.73, error = 0.27\n",
      "movie_idx = 964.0, rated_score = 4.00, predicted score = 4.47, error = -0.47\n",
      "Mean Error : -0.164588592234007\n"
     ]
    }
   ],
   "source": [
    "errors = [] \n",
    "for row_idx in range(len(closed_rating_df)):\n",
    "    test_user_idx = closed_rating_df.iloc[row_idx].user_idx\n",
    "    test_item_idx = closed_rating_df.iloc[row_idx].movie_idx\n",
    "    test_item_rating = closed_rating_df.iloc[row_idx].rating\n",
    "    r_a = closed_rating_df.rating.mean()\n",
    "\n",
    "    numerator = 0\n",
    "    denominator = 0\n",
    "    for user_idx, rating_dict in enumerate(user_rating_book):\n",
    "        if test_item_idx in rating_dict.keys():\n",
    "            r_b_p = rating_dict[test_item_idx]\n",
    "            r_b = np.mean(list(rating_dict.values()))\n",
    "            sim = user_sim_dict[user_idx]\n",
    "            if sim >= 0.5:\n",
    "                rating_diff = r_b_p - r_b\n",
    "                numerator += rating_diff * sim\n",
    "                denominator += sim\n",
    "\n",
    "    if denominator != 0:\n",
    "        preference_score = numerator / denominator\n",
    "    else:\n",
    "        preference_score = 0\n",
    "    predicted_rating = r_a + preference_score\n",
    "    error = test_item_rating - predicted_rating\n",
    "    errors.append(error)\n",
    "    print(\"movie_idx = {}, rated_score = {:.2f}, predicted score = {:.2f}, error = {:.2f}\".format(test_item_idx, test_item_rating, predicted_rating, error))\n",
    "\n",
    "mean_error = np.mean(errors)\n",
    "print(\"Mean Error : {}\".format(mean_error))"
   ]
  },
  {
   "cell_type": "code",
   "execution_count": 501,
   "metadata": {},
   "outputs": [
    {
     "data": {
      "text/plain": [
       "[2858, 2581, 593, 3176, 3175, 2739, 3101, 920, 541, 1077]"
      ]
     },
     "execution_count": 501,
     "metadata": {},
     "output_type": "execute_result"
    }
   ],
   "source": [
    "closed_rating_df.movieId.tolist()"
   ]
  },
  {
   "cell_type": "code",
   "execution_count": null,
   "metadata": {},
   "outputs": [],
   "source": [
    "## Model : 1.1 MF \n",
    "\n",
    "\n",
    "\n"
   ]
  },
  {
   "cell_type": "code",
   "execution_count": null,
   "metadata": {},
   "outputs": [],
   "source": [
    "## Model : 2.0 Pearson 기반 Item Similarity\n",
    "\n",
    "- Item에 대한 Similarity \n"
   ]
  },
  {
   "cell_type": "code",
   "execution_count": null,
   "metadata": {},
   "outputs": [],
   "source": [
    "\n"
   ]
  },
  {
   "cell_type": "code",
   "execution_count": null,
   "metadata": {},
   "outputs": [],
   "source": []
  }
 ],
 "metadata": {
  "kernelspec": {
   "display_name": "py36-tf2",
   "language": "python",
   "name": "py36-tf2"
  },
  "language_info": {
   "codemirror_mode": {
    "name": "ipython",
    "version": 3
   },
   "file_extension": ".py",
   "mimetype": "text/x-python",
   "name": "python",
   "nbconvert_exporter": "python",
   "pygments_lexer": "ipython3",
   "version": "3.6.12"
  }
 },
 "nbformat": 4,
 "nbformat_minor": 4
}
